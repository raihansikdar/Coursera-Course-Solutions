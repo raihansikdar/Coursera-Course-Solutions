{
 "cells": [
  {
   "cell_type": "markdown",
   "metadata": {},
   "source": [
    "<center>\n",
    "    <img src=\"https://cf-courses-data.s3.us.cloud-object-storage.appdomain.cloud/IBMDeveloperSkillsNetwork-DS0105EN-SkillsNetwork/labs/Module2/images/SN_web_lightmode.png\" width=\"300\" alt=\"cognitiveclass.ai logo\"  />\n",
    "</center>\n"
   ]
  },
  {
   "cell_type": "markdown",
   "metadata": {},
   "source": [
    "#### Add your code below following the instructions given in the course\n"
   ]
  },
  {
   "cell_type": "markdown",
   "metadata": {},
   "source": [
    "## My Jupyter Notebook on IBM Watson Studio"
   ]
  },
  {
   "cell_type": "markdown",
   "metadata": {},
   "source": [
    "**Raihan Sikdar**"
   ]
  },
  {
   "cell_type": "markdown",
   "metadata": {},
   "source": [
    "Student"
   ]
  },
  {
   "cell_type": "markdown",
   "metadata": {},
   "source": [
    "*Data Science leads us to the future. And I want my place in the future. That is why I am interested in Data Science*"
   ]
  },
  {
   "cell_type": "markdown",
   "metadata": {},
   "source": [
    "### The next cell will calculate how much money I will pay Coursera as tution fee for course \"data Science\":"
   ]
  },
  {
   "cell_type": "code",
   "execution_count": 2,
   "metadata": {},
   "outputs": [
    {
     "name": "stdout",
     "output_type": "stream",
     "text": [
      "For Data Science course you will pay in total 120 $.\n"
     ]
    }
   ],
   "source": [
    "import math                #importing math for math.ceil() function (rounding up).\n",
    "MonthlyFee = 40            # monthly fee in USD\n",
    "CourseLength = 12          # course length according to Coursera in month\n",
    "MyPace = 4                 # the coefficient which show how much times faster you can pass the course\n",
    "TotalFee = math.ceil(CourseLength/MyPace)*MonthlyFee # counting the fee\n",
    "print('For Data Science course you will pay in total',TotalFee,'$.') # output the values."
   ]
  },
  {
   "cell_type": "markdown",
   "metadata": {},
   "source": [
    "Because: \n",
    "1. There is the chance info is usefull\n",
    "2. It is not a lot for 12 months \n",
    "\n",
    "I think it is fair enough\n",
    "***\n",
    "To see how much will you pay, run this code:\n",
    "```python\n",
    "import math                #importing math for math.ceil() function (rounding up).\n",
    "MonthlyFee = 40            # monthly fee in USD\n",
    "CourseLength = 12          # course length according to Coursera in month\n",
    "MyPace = 4                 # the coefficient which show how much times faster you can pass the course\n",
    "TotalFee = math.ceil(CourseLength/MyPace)*MonthlyFee # counting the fee\n",
    "print('For Data Science course you will pay in total',TotalFee,'$.') # output the values.\n",
    "\n",
    "```\n",
    "\n",
    "* So go on\n",
    "   \n",
    "   `Try it if you can`\n",
    "   \n",
    "   \n",
    "* Here is the link to course: [IBM Data Science Professional Certificate](https://www.coursera.org/professional-certificates/ibm-data-science \"Enroll\")\n",
    "\n",
    "# The example of `wrong` marketing:  \"Did you know Watson is gay?\" or \"How to make homophobia stronger?\"\n",
    "\n",
    "\n",
    "<img src = \"https://i.imgur.com/Tm1Gm8x.jpg\"> \n",
    "   \n",
    "   >“The purpose of life is finding the largest burden that you can bear and bearing it.”\n",
    "― Jordan B. Peterson\n",
    "\n",
    "~~Pharmaceutical fentanyl is a synthetic opioid pain reliever, approved for treating severe pain, typically advanced cancer pain.1 It is 50 to 100 times more potent than morphine. It is prescribed in the form of transdermal patches or lozenges and can be diverted for misuse and abuse in the United States.~~\n"
   ]
  },
  {
   "cell_type": "code",
   "execution_count": null,
   "metadata": {},
   "outputs": [],
   "source": []
  }
 ],
 "metadata": {
  "kernelspec": {
   "display_name": "Python",
   "language": "python",
   "name": "conda-env-python-py"
  },
  "language_info": {
   "codemirror_mode": {
    "name": "ipython",
    "version": 3
   },
   "file_extension": ".py",
   "mimetype": "text/x-python",
   "name": "python",
   "nbconvert_exporter": "python",
   "pygments_lexer": "ipython3",
   "version": "3.7.12"
  }
 },
 "nbformat": 4,
 "nbformat_minor": 4
}
